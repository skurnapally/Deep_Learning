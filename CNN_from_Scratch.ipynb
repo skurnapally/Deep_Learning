{
 "cells": [
  {
   "cell_type": "markdown",
   "metadata": {},
   "source": [
    "# <font color='red'>Implement CNN from scratch</font>"
   ]
  },
  {
   "cell_type": "markdown",
   "metadata": {},
   "source": [
    "### In the following assignment you have to compute the convolutional operations from scratch using Numpy\n",
    "You will then verify the correctness of the your implementation using a \"grader\" function/cell (provided by us) which will match your implmentation.\n",
    "\n",
    "The grader fucntion would help you validate the correctness of your code. \n",
    "\n",
    "Please submit the final Colab notebook in the classroom ONLY after you have verified your code using the grader function/cell.\n",
    "\n",
    "\n",
    "**NOTE: DO NOT change the \"grader\" functions or code snippets written by us.Please add your code in the suggested locations.**\n",
    "\n",
    "Ethics Code:\n",
    "1. You are welcome to read up online resources to implement the code. \n",
    "2. You can also discuss with your classmates on the implmentation over Slack.\n",
    "3. But, the code you write and submit should be yours ONLY. Your code will be compared against other stduents' code and online code snippets to check for plagiarism. If your code is found to be plagiarised, you will be awarded zero-marks for all assignments, which have a 10% weightage in the final marks for this course."
   ]
  },
  {
   "cell_type": "markdown",
   "metadata": {},
   "source": [
    "### Task 1. Calcuate the shape of the output image\n",
    "We use the below formula to calculate the shape of output image after performing the required operations\n",
    "<img src='https://i.imgur.com/BlepuHW.jpg'>"
   ]
  },
  {
   "cell_type": "code",
   "execution_count": 311,
   "metadata": {},
   "outputs": [],
   "source": [
    "#https://stats.stackexchange.com/questions/351115/convolution-with-a-non-square-kernel\n",
    "#for simplicity we are assuming stride=1\n",
    "import numpy as np\n",
    "def calculate_output_shape(img_size, kernel_size,padding):\n",
    "    #\n",
    "    img_length=img_size[0]\n",
    "    img_width=img_size[1]\n",
    "    kernel_length=kernel_size[0]\n",
    "    kernel_width=kernel_size[1]\n",
    "    stride=1\n",
    "    #return -1,-1 if the shape of kernel is greater than img_size\n",
    "    if (img_length < kernel_length) or (img_width < kernel_width):\n",
    "        output_length=output_width=-1\n",
    "    else:\n",
    "        output_length = np.floor((img_length+2*padding-kernel_length)/stride)+1\n",
    "        output_width = np.floor((img_width+2*padding-kernel_width)/stride)+1\n",
    "    #use the above formula to calculate output_length and output_width\n",
    "    return output_length,output_width"
   ]
  },
  {
   "cell_type": "code",
   "execution_count": 312,
   "metadata": {},
   "outputs": [
    {
     "data": {
      "text/plain": [
       "True"
      ]
     },
     "execution_count": 312,
     "metadata": {},
     "output_type": "execute_result"
    }
   ],
   "source": [
    "def grader_calculate_size(l1,w1,l2,w2,l3,w3):\n",
    "    case_1=(l1==220 and w1==220)\n",
    "    case_2=(l2==-1 and w2==-1)\n",
    "    case_3=(l3==128 and w3==128)\n",
    "    assert(case_1 and case_2 and case_3)\n",
    "    return True\n",
    "l1,w1=calculate_output_shape((224,224), (5,5),0)\n",
    "l2,w2=calculate_output_shape((10,10), (12,12),1)\n",
    "l3,w3=calculate_output_shape((128,128), (3,3),1)\n",
    "grader_calculate_size(l1,w1,l2,w2,l3,w3)"
   ]
  },
  {
   "cell_type": "markdown",
   "metadata": {},
   "source": [
    "### Task 2 . Get the padded image\n",
    "In this task we have to add layer of zeros as padding layers in the original image"
   ]
  },
  {
   "cell_type": "code",
   "execution_count": 313,
   "metadata": {},
   "outputs": [],
   "source": [
    "def get_padded_image(input_img, padding_width):\n",
    "    \n",
    "    #if the padding length is less than or equal to 0 then return the original image\n",
    "    if(padding_width<=0):\n",
    "        return img\n",
    "    else:\n",
    "        img_with_padding= np.array([[0]*(2*padding_width+len(input_img[0]))]*padding_width)       \n",
    "        for row in range(len(input_img)):              \n",
    "            test = np.append(np.append(np.array([0]*padding_width),input_img[row]),np.array([0]*padding_width))\n",
    "            test.reshape(1,test.shape[0])\n",
    "            img_with_padding = np.concatenate((img_with_padding,test.reshape(1,test.shape[0])),axis=0)\n",
    "            if row == len(input_img)-1:\n",
    "                img_with_padding = np.concatenate((img_with_padding,np.array([[0]*(2*padding_width+len(input_img[0]))]*padding_width)),axis=0)\n",
    "    #you can initialize a matrix of all zeros and then copy the image data \n",
    "    \n",
    "    return img_with_padding"
   ]
  },
  {
   "cell_type": "code",
   "execution_count": 314,
   "metadata": {},
   "outputs": [
    {
     "data": {
      "text/plain": [
       "True"
      ]
     },
     "execution_count": 314,
     "metadata": {},
     "output_type": "execute_result"
    }
   ],
   "source": [
    "def grader_padding(img1,img2):\n",
    "    a1=((img1.shape)==(8,8))\n",
    "    a2=((img2.shape)==(4,4))\n",
    "    assert(a1 and a2)\n",
    "    b1=(img1.sum(axis=1)==[ 0.,  0., 10., 26., 42., 58.,  0.,  0.])\n",
    "    b2=(img1.sum(axis=0)==[ 0, 0, 28, 32, 36, 40,  0,  0])\n",
    "    assert(b1.all() and b2.all())\n",
    "    return True\n",
    "\n",
    "img=np.array([[1,2,3,4],[5,6,7,8],[9,10,11,12],[13,14,15,16]])\n",
    "img1=get_padded_image(img, 2)\n",
    "img2=get_padded_image(img, 0)\n",
    "grader_padding(img1,img2)"
   ]
  },
  {
   "cell_type": "markdown",
   "metadata": {},
   "source": [
    "### Task 3 . Performing convolution\n",
    "In this task we have to add layer of zeros as padding layers in the original image"
   ]
  },
  {
   "cell_type": "code",
   "execution_count": 315,
   "metadata": {},
   "outputs": [],
   "source": [
    "def convolve(img, kernel,pad):\n",
    "    #calcualte the size of required image\n",
    "    tgt_size_length,tgt_size_width =  calculate_output_shape((img.shape[0],img.shape[1]),(kernel.shape[0],kernel.shape[1]),pad)\n",
    "    #initialize the matrix of all zeros\n",
    "    convolved_img = np.zeros(shape=(int(tgt_size_length), int(tgt_size_width)))\n",
    "    new_img=get_padded_image(img, pad)\n",
    "    # write the code for convolution\n",
    "    for target_length in range(int(new_img.shape[0])-kernel.shape[0]+1):\n",
    "        for target_width in range(int(new_img.shape[1])-kernel.shape[0]+1):\n",
    "            selected_mat = new_img[target_length:target_length+kernel.shape[0],target_width:target_width+kernel.shape[1]]\n",
    "            convolved_img[target_length,target_width] = np.multiply(kernel,selected_mat).sum()\n",
    "    return convolved_img"
   ]
  },
  {
   "cell_type": "code",
   "execution_count": 316,
   "metadata": {},
   "outputs": [
    {
     "data": {
      "text/plain": [
       "True"
      ]
     },
     "execution_count": 316,
     "metadata": {},
     "output_type": "execute_result"
    }
   ],
   "source": [
    "def grader_convolve(conv_img):\n",
    "    a1=(conv_img.shape==(5,5))\n",
    "    a2=(conv_img.sum(axis=1)==([10, 26, 42, 58,  0]))\n",
    "    a3=(conv_img.sum(axis=0)==([ 0,28, 32, 36, 40]))\n",
    "    assert(a1 and a2.all() and a3.all())\n",
    "    return True\n",
    "img=np.array([[1,2,3,4],[5,6,7,8],[9,10,11,12],[13,14,15,16]])\n",
    "kernel=np.array([[1,-1],[0,1]])\n",
    "conv_img=convolve(img, kernel,1)\n",
    "grader_convolve(conv_img)"
   ]
  },
  {
   "cell_type": "markdown",
   "metadata": {},
   "source": [
    "### Task 4: Perform Maxpooling with strides\n"
   ]
  },
  {
   "cell_type": "code",
   "execution_count": 317,
   "metadata": {},
   "outputs": [],
   "source": [
    "def get_maxpools(img, pool_size, stride):\n",
    "    # write your code to get the pooled matrix\n",
    "    pooling_mat = np.zeros(shape=(int(img.shape[0]-pool_size+1), int(img.shape[1]-pool_size+1)))\n",
    "    for target_length in range(0,int(img.shape[0])-pool_size+1,stride):\n",
    "        for target_width in range(0,int(img.shape[1])-pool_size+1,stride):\n",
    "            selected_mat = img[target_length:target_length+pool_size,target_width:target_width+pool_size]\n",
    "            pooling_mat[target_length,target_width] = np.amax(selected_mat)\n",
    "    return (pooling_mat)"
   ]
  },
  {
   "cell_type": "code",
   "execution_count": 318,
   "metadata": {},
   "outputs": [
    {
     "data": {
      "text/plain": [
       "True"
      ]
     },
     "execution_count": 318,
     "metadata": {},
     "output_type": "execute_result"
    }
   ],
   "source": [
    "def pooling_final(pooled_output):\n",
    "    a1=(pooled_output.sum(axis=0)==[30, 33, 36])\n",
    "    a2=(pooled_output.sum(axis=1)==[21, 33, 45])\n",
    "    assert(a1.all() and a2.all())\n",
    "    return True\n",
    "img=np.array([[1,2,3,4],[5,6,7,8],[9,10,11,12],[13,14,15,16]])\n",
    "pool_size=2\n",
    "stride=1\n",
    "pooled_output=(get_maxpools(img, pool_size, stride))\n",
    "pooling_final(pooled_output)"
   ]
  },
  {
   "cell_type": "code",
   "execution_count": null,
   "metadata": {},
   "outputs": [],
   "source": []
  }
 ],
 "metadata": {
  "kernelspec": {
   "display_name": "Python 3 (ipykernel)",
   "language": "python",
   "name": "python3"
  },
  "language_info": {
   "codemirror_mode": {
    "name": "ipython",
    "version": 3
   },
   "file_extension": ".py",
   "mimetype": "text/x-python",
   "name": "python",
   "nbconvert_exporter": "python",
   "pygments_lexer": "ipython3",
   "version": "3.9.12"
  }
 },
 "nbformat": 4,
 "nbformat_minor": 2
}
